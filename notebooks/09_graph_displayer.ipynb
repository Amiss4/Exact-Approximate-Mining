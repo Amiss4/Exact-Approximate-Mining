{
 "cells": [
  {
   "cell_type": "code",
   "execution_count": null,
   "metadata": {},
   "outputs": [],
   "source": [
    "import os\n",
    "import networkx as nx\n",
    "import matplotlib.pyplot as plt\n",
    "from random import randint\n",
    "import random\n",
    "import numpy\n",
    "import re \n",
    "seed = 42\n",
    "random.seed(seed)  \n",
    "numpy.random.seed(seed)"
   ]
  },
  {
   "cell_type": "code",
   "execution_count": null,
   "metadata": {},
   "outputs": [],
   "source": [
    "reg_fre = r'Frequency : ([0-9]+)'"
   ]
  },
  {
   "cell_type": "code",
   "execution_count": null,
   "metadata": {},
   "outputs": [],
   "source": [
    "nb_nodes = 0\n",
    "with open('../data/TrendGraphs/DBLP/attributes/T2attributes') as f:\n",
    "    nb_nodes =  sum(1 for _ in f)"
   ]
  },
  {
   "cell_type": "code",
   "execution_count": null,
   "metadata": {},
   "outputs": [],
   "source": [
    "G = nx.Graph()"
   ]
  },
  {
   "cell_type": "code",
   "execution_count": null,
   "metadata": {},
   "outputs": [],
   "source": [
    "G.add_nodes_from(range(0,nb_nodes))\n",
    "# G.add_nodes_from([(4, {\"color\": \"red\"}), (5, {\"color\": \"green\"})])"
   ]
  },
  {
   "cell_type": "code",
   "execution_count": null,
   "metadata": {},
   "outputs": [],
   "source": [
    "with open('../data/TrendGraphs/DBLP/edges/T2edges') as f:\n",
    "    for line in f:\n",
    "        a, b = line.split('\\t')\n",
    "        G.add_edge(int(a), int(b))\n"
   ]
  },
  {
   "cell_type": "code",
   "execution_count": null,
   "metadata": {},
   "outputs": [],
   "source": [
    "list_of_color_nodes = []\n",
    "ordered_line = []\n",
    "with open('../output/one_att/test_merge/0_1_2.txt') as f:\n",
    "    for line in f:\n",
    "        ordered_line.append(line)\n",
    "# ordered_line.sort(key=lambda tup: tup[0], reverse=True)"
   ]
  },
  {
   "cell_type": "code",
   "execution_count": null,
   "metadata": {},
   "outputs": [],
   "source": []
  },
  {
   "cell_type": "code",
   "execution_count": null,
   "metadata": {},
   "outputs": [],
   "source": [
    "# line = ordered_line[0][1]"
   ]
  },
  {
   "cell_type": "code",
   "execution_count": null,
   "metadata": {},
   "outputs": [],
   "source": [
    "new_list = []\n",
    "for line in  ordered_line:\n",
    "    li_occ = re.findall(r'([0-9]+)', line.split(\"Occurences :\")[1].strip())\n",
    "    li_occ = [int(i) for i in li_occ]\n",
    "    li_occ = list(set(li_occ))\n",
    "    new_list.append((len(li_occ), li_occ))"
   ]
  },
  {
   "cell_type": "code",
   "execution_count": null,
   "metadata": {},
   "outputs": [],
   "source": [
    "new_list.sort(key=lambda tup: tup[0], reverse=True)\n",
    "line = new_list[0][1]"
   ]
  },
  {
   "cell_type": "code",
   "execution_count": null,
   "metadata": {},
   "outputs": [],
   "source": [
    "node_color_map = []\n",
    "for node in G:\n",
    "    # rand = randint(0,100)\n",
    "    if node in line:\n",
    "        node_color_map.append('red')\n",
    "    else: \n",
    "        node_color_map.append('blue')      \n",
    "edge_color_map = []\n",
    "for ed in G.edges():\n",
    "    # print(ed)\n",
    "    rand = randint(0,100)\n",
    "    if ed[0] in line and ed[1] in line:\n",
    "        edge_color_map.append('red')\n",
    "    else: \n",
    "        edge_color_map.append('black')     \n",
    "    # else: \n",
    "        # color_map.append('blue')      \n",
    "# pos = nx.random_layout(G, seed=seed)\n",
    "nx.draw(G, node_color=node_color_map, edge_color=edge_color_map, with_labels=False)\n",
    "plt.show()"
   ]
  },
  {
   "cell_type": "code",
   "execution_count": null,
   "metadata": {},
   "outputs": [],
   "source": [
    "nx.draw(G, with_labels=False)\n",
    "pos = nx.random_layout(G, seed=seed)\n",
    "nx.draw(G)\n",
    "# plt.show()"
   ]
  },
  {
   "cell_type": "code",
   "execution_count": null,
   "metadata": {},
   "outputs": [],
   "source": []
  }
 ],
 "metadata": {
  "kernelspec": {
   "display_name": "Python 3",
   "language": "python",
   "name": "python3"
  },
  "language_info": {
   "codemirror_mode": {
    "name": "ipython",
    "version": 3
   },
   "file_extension": ".py",
   "mimetype": "text/x-python",
   "name": "python",
   "nbconvert_exporter": "python",
   "pygments_lexer": "ipython3",
   "version": "3.9.5"
  }
 },
 "nbformat": 4,
 "nbformat_minor": 2
}
