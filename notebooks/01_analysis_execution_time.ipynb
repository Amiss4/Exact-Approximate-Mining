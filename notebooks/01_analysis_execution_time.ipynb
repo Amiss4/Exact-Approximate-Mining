{
 "cells": [
  {
   "cell_type": "code",
   "execution_count": null,
   "metadata": {},
   "outputs": [],
   "source": [
    "import sys, os\n",
    "import pandas as pd\n",
    "import re\n",
    "import plotly.express as px\n",
    "import plotly.graph_objects as go\n",
    "from plotly.subplots import make_subplots\n",
    "import plotly.io as pio\n",
    "pio.renderers.default = \"notebook+pdf\"\n"
   ]
  },
  {
   "cell_type": "code",
   "execution_count": null,
   "metadata": {},
   "outputs": [],
   "source": [
    "reg_extract_pattern = r'Total : ([0-9]+)'\n",
    "reg_exc_time = r'Execution time : ([0-9]+)s'\n",
    "reg_config = r'([^ ]*) vol ([0-9]+) att ([0-9]+) supp ([0-9]+) mincom ([0-9]+) nbtime ([0-9]+)'\n",
    "reg_to = r'timeout'"
   ]
  },
  {
   "cell_type": "code",
   "execution_count": null,
   "metadata": {},
   "outputs": [],
   "source": [
    "def ExtractConfigAndResults(lines):\n",
    "    \n",
    "    groups = re.findall(reg_config, lines[0])\n",
    "    config =     {'dataset' : groups[0][0],\n",
    "                  'volume' : int(groups[0][1]), \n",
    "                  'nbAtt' : int(groups[0][2]), \n",
    "                  'support' : int(groups[0][3]),\n",
    "                  'mincom' : int(groups[0][4]),\n",
    "                  'nbTime' : int(groups[0][5])}\n",
    "    one_att_results = {\"Algorithm\" : \"OneAtt\",\n",
    "                       'nb Subgraphs' : int(re.findall(reg_extract_pattern, lines[1])[0]),\n",
    "                       \"Exec Time\" : int(re.findall(reg_exc_time, lines[2])[0])}\n",
    "    one_att_results.update(config)\n",
    "    multi_att_results = {}\n",
    "    if len(lines) == 5:\n",
    "        multi_att_results = {\"Algorithm\" : \"Classic FSSE\",\n",
    "                             'nb Subgraphs' : int(re.findall(reg_extract_pattern, lines[3])[0]),\n",
    "                             \"Exec Time\" : int(re.findall(reg_exc_time, lines[4])[0])}        \n",
    "        \n",
    "    if len(lines) == 4:\n",
    "        multi_att_results = {\"Algorithm\" : \"Classic FSSE\",\n",
    "                             'nb Subgraphs' : None,\n",
    "                             \"Exec Time\" : None}     \n",
    "    multi_att_results.update(config)\n",
    "    return one_att_results, multi_att_results"
   ]
  },
  {
   "cell_type": "markdown",
   "metadata": {},
   "source": [
    "# Covid China"
   ]
  },
  {
   "cell_type": "code",
   "execution_count": null,
   "metadata": {},
   "outputs": [],
   "source": [
    "lines = []\n",
    "with open(\"../analyzed_results/exectution_time/covid_extecution_time_results.txt\") as file:\n",
    "    for line in file :\n",
    "        if len(line)>1:          \n",
    "            lines.append(line.strip())\n",
    "    "
   ]
  },
  {
   "cell_type": "code",
   "execution_count": null,
   "metadata": {},
   "outputs": [],
   "source": [
    "res1 = ExtractConfigAndResults(lines[:5])\n",
    "res2 = ExtractConfigAndResults(lines[5:10])\n",
    "res3 = ExtractConfigAndResults(lines[10:15])\n",
    "res4 = ExtractConfigAndResults(lines[15:20])\n",
    "res5 = ExtractConfigAndResults(lines[20:25])"
   ]
  },
  {
   "cell_type": "code",
   "execution_count": null,
   "metadata": {},
   "outputs": [],
   "source": [
    "df = pd.DataFrame( res1 + res2 + res3 + res4 + res5 )\n",
    "df['config'] = df.apply(lambda x : \"V = \" + str(x[\"volume\"])+ \" A = \" + str(x['nbAtt']), axis = 1)"
   ]
  },
  {
   "cell_type": "code",
   "execution_count": null,
   "metadata": {},
   "outputs": [],
   "source": [
    "df"
   ]
  },
  {
   "cell_type": "code",
   "execution_count": null,
   "metadata": {},
   "outputs": [],
   "source": [
    "df[df['Algorithm'] == \"OneAtt\"]"
   ]
  },
  {
   "cell_type": "code",
   "execution_count": null,
   "metadata": {},
   "outputs": [],
   "source": [
    "fig = make_subplots(specs=[[{\"secondary_y\": True}]],    )\n",
    "\n",
    "# Add traces\n",
    "fig.add_trace(\n",
    "    go.Scatter(x=df[df['Algorithm'] == \"OneAtt\"][\"config\"], \n",
    "               y=df[df['Algorithm'] == \"OneAtt\"][\"Exec Time\"], \n",
    "               mode=\"lines+markers+text\", text =df[df['Algorithm'] == \"OneAtt\"][\"Exec Time\"], \n",
    "               name=\"Mono-Attributed\", \n",
    "               line=dict(width=8)),\n",
    "    secondary_y=False,\n",
    ")\n",
    "\n",
    "fig.add_trace(\n",
    "    go.Scatter(x=df[df['Algorithm'] == \"Classic FSSE\"][\"config\"], \n",
    "               y=df[df['Algorithm'] == \"Classic FSSE\"][\"Exec Time\"], \n",
    "               mode=\"lines+markers+text\", text =df[df['Algorithm'] == \"Classic FSSE\"][\"Exec Time\"],\n",
    "               name=\"Multi-Attributed\",\n",
    "               line=dict(width=8)),\n",
    "    secondary_y=False,\n",
    ")\n",
    "\n",
    "# Add figure title\n",
    "fig.update_layout(\n",
    "\n",
    "    # title_text=\"Compared Execution Time for Subgraph Exctraction for Covid-19 dataset\", \n",
    "        font=dict(\n",
    "        # family=\"Courier New, monospace\",\n",
    "        size=30,  # Set the font size here\n",
    "        # color=\"RebeccaPurple\"\n",
    "    ), \n",
    "        yaxis_range=[0,1500], \n",
    "        legend=dict(\n",
    "        x=0,\n",
    "        y=1,\n",
    "        traceorder=\"reversed\",\n",
    "        # title_font_family=\"Times New Roman\",\n",
    "        # font=dict(\n",
    "        #     family=\"Courier\",\n",
    "        #     size=12,\n",
    "        #     color=\"black\"\n",
    "        # ),\n",
    "        # bgcolor=\"LightSteelBlue\",\n",
    "        bordercolor=\"Black\",\n",
    "        borderwidth=1\n",
    "    )\n",
    "    \n",
    ")\n",
    "\n",
    "# Set x-axis title\n",
    "# fig.la\n",
    "fig.update_traces(textposition='top center')\n",
    "fig.update_xaxes(title_text=\"Configuration\", )\n",
    "fig.update_yaxes(title_text=\"Execution Time (s)\", secondary_y=False)\n",
    "# fig.update_yaxes(title_text=\"Execution Time Classic FSSE (s)\", secondary_y=True)"
   ]
  },
  {
   "cell_type": "code",
   "execution_count": null,
   "metadata": {},
   "outputs": [],
   "source": [
    "fig = px.bar(df, x='config', y='nb Subgraphs', color='Algorithm', barmode=\"group\")\n",
    "fig.show()"
   ]
  },
  {
   "cell_type": "markdown",
   "metadata": {},
   "source": [
    "# DBLP"
   ]
  },
  {
   "cell_type": "code",
   "execution_count": null,
   "metadata": {},
   "outputs": [],
   "source": [
    "lines = []\n",
    "with open(\"../analyzed_results/exectution_time/dblp_extecution_time_results.txt\") as file:\n",
    "    for line in file :\n",
    "        if len(line)>1:          \n",
    "            lines.append(line.strip())"
   ]
  },
  {
   "cell_type": "code",
   "execution_count": null,
   "metadata": {},
   "outputs": [],
   "source": [
    "res1 = ExtractConfigAndResults(lines[:5])\n",
    "res2 = ExtractConfigAndResults(lines[5:10])\n",
    "res3 = ExtractConfigAndResults(lines[10:15])\n",
    "res4 = ExtractConfigAndResults(lines[15:20])\n",
    "res5 = ExtractConfigAndResults(lines[20:25])\n",
    "# res6 = ExtractConfigAndResults(lines[25:])"
   ]
  },
  {
   "cell_type": "code",
   "execution_count": null,
   "metadata": {},
   "outputs": [],
   "source": [
    "df = pd.DataFrame( res1 + res2 + res3 + res4 + res5 )\n",
    "df['config'] = df.apply(lambda x : \"V = \" + str(x[\"volume\"])+ \" A = \" + str(x['nbAtt']), axis = 1)"
   ]
  },
  {
   "cell_type": "code",
   "execution_count": null,
   "metadata": {},
   "outputs": [],
   "source": [
    "fig = make_subplots(specs=[[{\"secondary_y\": True}]],    )\n",
    "\n",
    "# Add traces\n",
    "fig.add_trace(\n",
    "    go.Scatter(x=df[df['Algorithm'] == \"OneAtt\"][\"config\"], \n",
    "               y=df[df['Algorithm'] == \"OneAtt\"][\"Exec Time\"], \n",
    "               mode=\"lines+markers+text\", text =df[df['Algorithm'] == \"OneAtt\"][\"Exec Time\"], \n",
    "               name=\"Mono-Attributed\", \n",
    "               line=dict(width=8)),\n",
    "    secondary_y=False,\n",
    ")\n",
    "\n",
    "fig.add_trace(\n",
    "    go.Scatter(x=df[df['Algorithm'] == \"Classic FSSE\"][\"config\"], \n",
    "               y=df[df['Algorithm'] == \"Classic FSSE\"][\"Exec Time\"], \n",
    "               mode=\"lines+markers+text\", text =df[df['Algorithm'] == \"Classic FSSE\"][\"Exec Time\"],\n",
    "               name=\"Multi-Attributed\",\n",
    "               line=dict(width=8)),\n",
    "    secondary_y=False,\n",
    ")\n",
    "\n",
    "# Add figure title\n",
    "fig.update_layout(\n",
    "\n",
    "    # title_text=\"Compared Execution Time for Subgraph Exctraction for Covid-19 dataset\", \n",
    "        font=dict(\n",
    "        # family=\"Courier New, monospace\",\n",
    "        size=30,  # Set the font size here\n",
    "        # color=\"RebeccaPurple\"\n",
    "    ), \n",
    "        yaxis_range=[0,10000], \n",
    "        legend=dict(\n",
    "        x=0,\n",
    "        y=1,\n",
    "        traceorder=\"reversed\",\n",
    "        # title_font_family=\"Times New Roman\",\n",
    "        # font=dict(\n",
    "        #     family=\"Courier\",\n",
    "        #     size=12,\n",
    "        #     color=\"black\"\n",
    "        # ),\n",
    "        # bgcolor=\"LightSteelBlue\",\n",
    "        bordercolor=\"Black\",\n",
    "        borderwidth=1\n",
    "    )\n",
    "    \n",
    ")\n",
    "\n",
    "# Set x-axis title\n",
    "# fig.la\n",
    "fig.update_traces(textposition='top center')\n",
    "fig.update_xaxes(title_text=\"Configuration\", )\n",
    "fig.update_yaxes(title_text=\"Execution Time (s)\", secondary_y=False)\n",
    "# fig.update_yaxes(title_text=\"Execution Time Classic FSSE (s)\", secondary_y=True)"
   ]
  },
  {
   "cell_type": "code",
   "execution_count": null,
   "metadata": {},
   "outputs": [],
   "source": [
    "fig = px.bar(df, x='config', y='nb Subgraphs', color='Algorithm', barmode=\"group\")\n",
    "fig.show()"
   ]
  },
  {
   "cell_type": "code",
   "execution_count": null,
   "metadata": {},
   "outputs": [],
   "source": [
    "lines = []\n",
    "with open(\"../analyzed_results/exectution_time/synthetic_200_extecution_time_results.txt\") as file:\n",
    "    for line in file :\n",
    "        if len(line)>1:          \n",
    "            lines.append(line.strip())"
   ]
  },
  {
   "cell_type": "code",
   "execution_count": null,
   "metadata": {},
   "outputs": [],
   "source": [
    "res1 = ExtractConfigAndResults(lines[:5])\n",
    "res2 = ExtractConfigAndResults(lines[5:10])\n",
    "res3 = ExtractConfigAndResults(lines[10:15])\n",
    "res4 = ExtractConfigAndResults(lines[15:20])\n",
    "res5 = ExtractConfigAndResults(lines[20:25])\n",
    "# res6 = ExtractConfigAndResults(lines[25:30])\n",
    "# res7 = ExtractConfigAndResults(lines[30:34])"
   ]
  },
  {
   "cell_type": "code",
   "execution_count": null,
   "metadata": {},
   "outputs": [],
   "source": [
    "df = pd.DataFrame( res1 + res2 + res3 + res4 + res5 )\n",
    "df['config'] = df.apply(lambda x : \"V = \" + str(x[\"volume\"])+ \" A = \" + str(x['nbAtt']), axis = 1)"
   ]
  },
  {
   "cell_type": "code",
   "execution_count": null,
   "metadata": {},
   "outputs": [],
   "source": [
    "fig = make_subplots(specs=[[{\"secondary_y\": True}]],    )\n",
    "\n",
    "# Add traces\n",
    "fig.add_trace(\n",
    "    go.Scatter(x=df[df['Algorithm'] == \"OneAtt\"][\"config\"], \n",
    "               y=df[df['Algorithm'] == \"OneAtt\"][\"Exec Time\"], \n",
    "               mode=\"lines+markers+text\", text =df[df['Algorithm'] == \"OneAtt\"][\"Exec Time\"], \n",
    "               name=\"Mono-Attributed\", \n",
    "               line=dict(width=8)),\n",
    "    secondary_y=False,\n",
    ")\n",
    "\n",
    "fig.add_trace(\n",
    "    go.Scatter(x=df[df['Algorithm'] == \"Classic FSSE\"][\"config\"], \n",
    "               y=df[df['Algorithm'] == \"Classic FSSE\"][\"Exec Time\"], \n",
    "               mode=\"lines+markers+text\", text =df[df['Algorithm'] == \"Classic FSSE\"][\"Exec Time\"],\n",
    "               name=\"Multi-Attributed\",\n",
    "               line=dict(width=8)),\n",
    "    secondary_y=False,\n",
    ")\n",
    "\n",
    "# Add figure title\n",
    "fig.update_layout(\n",
    "\n",
    "    # title_text=\"Compared Execution Time for Subgraph Exctraction for Covid-19 dataset\", \n",
    "        font=dict(\n",
    "        # family=\"Courier New, monospace\",\n",
    "        size=30,  # Set the font size here\n",
    "        # color=\"RebeccaPurple\"\n",
    "    ), \n",
    "        yaxis_range=[0,3000], \n",
    "        legend=dict(\n",
    "        x=0,\n",
    "        y=1,\n",
    "        traceorder=\"reversed\",\n",
    "        # title_font_family=\"Times New Roman\",\n",
    "        # font=dict(\n",
    "        #     family=\"Courier\",\n",
    "        #     size=12,\n",
    "        #     color=\"black\"\n",
    "        # ),\n",
    "        # bgcolor=\"LightSteelBlue\",\n",
    "        bordercolor=\"Black\",\n",
    "        borderwidth=1\n",
    "    )\n",
    "    \n",
    ")\n",
    "\n",
    "# Set x-axis title\n",
    "# fig.la\n",
    "fig.update_traces(textposition='top center')\n",
    "fig.update_xaxes(title_text=\"Configuration\", )\n",
    "fig.update_yaxes(title_text=\"Execution Time (s)\", secondary_y=False)\n",
    "# fig.update_yaxes(title_text=\"Execution Time Classic FSSE (s)\", secondary_y=True)"
   ]
  },
  {
   "cell_type": "code",
   "execution_count": null,
   "metadata": {},
   "outputs": [],
   "source": [
    "fig = px.bar(df, x='config', y='nb Subgraphs', color='Algorithm', barmode=\"group\")\n",
    "fig.show()"
   ]
  },
  {
   "cell_type": "code",
   "execution_count": null,
   "metadata": {},
   "outputs": [],
   "source": [
    "li_dataset = ['Covid', 'DBLP', 'Synthetic 200', 'Synthetic 500']\n",
    "li_mono = [16, 9, 31, 40]\n",
    "li_multi = [610, 4758, 1323, 15959]\n",
    "df = pd.DataFrame({\"Dataset\" : li_dataset, \"Mono Attributed\" : li_mono, \"Multi Attributed\" : li_multi})\n",
    "df"
   ]
  },
  {
   "cell_type": "code",
   "execution_count": null,
   "metadata": {},
   "outputs": [],
   "source": [
    "fig = px.bar(df, x='Dataset', y='Mono Attributed', color='Multi Attributed', barmode=\"group\")\n",
    "fig.show()"
   ]
  },
  {
   "cell_type": "code",
   "execution_count": null,
   "metadata": {},
   "outputs": [],
   "source": [
    "fig = make_subplots(specs=[[{\"secondary_y\": True}]],    )\n",
    "\n",
    "# Add traces\n",
    "fig.add_trace(\n",
    "    go.Bar(x = df[\"Dataset\"], \n",
    "               y = df[\"Mono Attributed\"], \n",
    "            #    mode = \"text\",\n",
    "               text = df[\"Mono Attributed\"], \n",
    "               name = \"Mono-Attributed\", \n",
    "            #    line = dict(width=8)\n",
    "            textposition=\"outside\"\n",
    "            ),\n",
    "    secondary_y=False,\n",
    ")\n",
    "\n",
    "fig.add_trace(\n",
    "    go.Bar(x = df[\"Dataset\"], \n",
    "               y = df[\"Multi Attributed\"], \n",
    "            #    mode = \"text\",\n",
    "               text = df[\"Multi Attributed\"], \n",
    "               name = \"Multi-Attributed\", \n",
    "            #    line = dict(width=8)\n",
    "            textposition=\"outside\"\n",
    "            ),\n",
    "    secondary_y=False,\n",
    ")\n",
    "\n",
    "# Add figure title\n",
    "fig.update_layout(\n",
    "width=1486, height=525,\n",
    "    # title_text=\"Compared Execution Time for Subgraph Exctraction for Covid-19 dataset\", \n",
    "        font=dict(\n",
    "        # family=\"Courier New, monospace\",\n",
    "        size=30,  # Set the font size here\n",
    "        # color=\"RebeccaPurple\"\n",
    "    ), \n",
    "        yaxis_range=[0,5], \n",
    "        legend=dict(\n",
    "        x=0,\n",
    "        y=1,\n",
    "        traceorder=\"reversed\",\n",
    "        # title_font_family=\"Times New Roman\",\n",
    "        # font=dict(\n",
    "        #     family=\"Courier\",\n",
    "        #     size=12,\n",
    "        #     color=\"black\"\n",
    "        # ),\n",
    "        # bgcolor=\"LightSteelBlue\",\n",
    "        bordercolor=\"Black\",\n",
    "        borderwidth=1\n",
    "    )\n",
    "    \n",
    ")\n",
    "\n",
    "# Set x-axis title\n",
    "# fig.la\n",
    "# fig.update_traces(textposition='inside')\n",
    "fig.update_xaxes(title_text=\"Configuration\", )\n",
    "fig.update_yaxes(title_text=\"Execution Time (s)\", secondary_y=False, type='log')\n",
    "# fig.update_yaxes(title_text=\"Execution Time Classic FSSE (s)\", secondary_y=True)"
   ]
  },
  {
   "cell_type": "code",
   "execution_count": null,
   "metadata": {},
   "outputs": [],
   "source": []
  }
 ],
 "metadata": {
  "kernelspec": {
   "display_name": "Python 3",
   "language": "python",
   "name": "python3"
  },
  "language_info": {
   "codemirror_mode": {
    "name": "ipython",
    "version": 3
   },
   "file_extension": ".py",
   "mimetype": "text/x-python",
   "name": "python",
   "nbconvert_exporter": "python",
   "pygments_lexer": "ipython3",
   "version": "3.9.5"
  }
 },
 "nbformat": 4,
 "nbformat_minor": 2
}
