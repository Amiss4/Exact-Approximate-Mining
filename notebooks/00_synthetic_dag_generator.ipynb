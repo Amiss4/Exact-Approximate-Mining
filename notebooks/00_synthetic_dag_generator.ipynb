{
 "cells": [
  {
   "cell_type": "code",
   "execution_count": 4,
   "metadata": {},
   "outputs": [],
   "source": [
    "import random\n",
    "import glob \n",
    "import os"
   ]
  },
  {
   "cell_type": "code",
   "execution_count": 9,
   "metadata": {},
   "outputs": [],
   "source": [
    "## Constraints \n",
    "\n",
    "NB_NODES = 1000\n",
    "PERCENTAGE_NODE_VARIATION = 10 #%\n",
    "PERCENTAGE_EDGES = 60 # %\n",
    "NB_TIMES = 20\n",
    "NB_ATT = 5\n",
    "ATT_VALUES = [-1, 0, 1]\n",
    "PATH = \"../data/TrendGraphs/synthetic_1000/\""
   ]
  },
  {
   "cell_type": "code",
   "execution_count": 10,
   "metadata": {},
   "outputs": [],
   "source": [
    "def generate_attributes(nb_att = NB_ATT, att_values = ATT_VALUES):\n",
    "    li_att = []\n",
    "    for i in range(nb_att):\n",
    "        li_att.append(random.choice(att_values))\n",
    "    return li_att\n",
    "\n",
    "def generate_edges(node_index, nb_nodes=NB_NODES, per_edges=PERCENTAGE_EDGES):\n",
    "    li_edges = []\n",
    "    for i in range(node_index + 1, nb_nodes):\n",
    "        rand_state = random.randrange(100) < per_edges\n",
    "        if rand_state:\n",
    "            li_edges.append(i)\n",
    "    return li_edges\n",
    "\n",
    "def write_in_files(current_ts, node_index, li_att, li_edges, path):\n",
    "    with open(path+\"attributes/T\"+str(current_ts)+\"attributes\", 'a') as file:\n",
    "        line_to_write = \"\"\n",
    "        for att in li_att:\n",
    "            line_to_write += str(att) + \"\\t\"\n",
    "        file.write(line_to_write+\"\\n\")\n",
    "    with open(path+\"edges/T\"+str(current_ts)+\"edges\", 'a') as file:\n",
    "        for i in li_edges:\n",
    "            file.write(str(node_index) + \"\\t\" + str(i) +\"\\n\")\n",
    "            \n",
    "def generate_one_time(current_ts, nb_nodes, path, per_edges=PERCENTAGE_EDGES, nb_att = NB_ATT, att_values = ATT_VALUES):\n",
    "    for i in range(nb_nodes):\n",
    "        current_att = generate_attributes(nb_att=nb_att, att_values=att_values)\n",
    "        current_edges = generate_edges(i, nb_nodes=nb_nodes, per_edges=per_edges)\n",
    "        write_in_files(current_ts=current_ts, node_index=i, li_att=current_att, li_edges=current_edges, path=path)\n",
    "\n",
    "# def clean_folders():\n",
    "#     files = glob.glob(PATH+\"attributes/\")\n",
    "#     for f in files:\n",
    "#         if os.path.isfile(f):\n",
    "#             os.remove(f)\n",
    "#     files = glob.glob(PATH+\"edges/\")\n",
    "#     for f in files:\n",
    "#         if os.path.isfile(f):\n",
    "#             os.remove(f)        \n",
    "    \n",
    "def genereate_dag(nb_times, nb_nodes, path, per_edges=PERCENTAGE_EDGES, nb_att = NB_ATT, att_values = ATT_VALUES, ):\n",
    "    for i in range(nb_times):\n",
    "        generate_one_time(i,  nb_nodes, path)"
   ]
  },
  {
   "cell_type": "code",
   "execution_count": 11,
   "metadata": {},
   "outputs": [],
   "source": [
    "PATH = \"../data/TrendGraphs/synthetic_\"\n",
    "li_nb_nodes = [200, 500, 1000, 1500, 2000, 3000, 4000, 8000, 10000]\n"
   ]
  },
  {
   "cell_type": "code",
   "execution_count": 12,
   "metadata": {},
   "outputs": [],
   "source": [
    "for el in li_nb_nodes:\n",
    "    if not os.path.exists(PATH+str(el)+\"/attributes\"):\n",
    "        os.makedirs(PATH+str(el)+\"/attributes\")\n",
    "    if not os.path.exists(PATH+str(el)+\"/edges\"):\n",
    "        os.makedirs(PATH+str(el)+\"/edges\")\n",
    "    genereate_dag(20, el, PATH+str(el)+\"/\")"
   ]
  },
  {
   "cell_type": "code",
   "execution_count": null,
   "metadata": {},
   "outputs": [],
   "source": [
    "# el = 1000\n",
    "# if not os.path.exists(PATH+str(el)+\"/attributes\"):\n",
    "#         os.makedirs(PATH+str(el)+\"/attributes\")\n",
    "# if not os.path.exists(PATH+str(el)+\"/edges\"):\n",
    "#         os.makedirs(PATH+str(el)+\"/edges\")\n",
    "# genereate_dag(20, el, PATH+str(el)+\"/\")"
   ]
  },
  {
   "cell_type": "code",
   "execution_count": null,
   "metadata": {},
   "outputs": [],
   "source": []
  }
 ],
 "metadata": {
  "kernelspec": {
   "display_name": "Python 3",
   "language": "python",
   "name": "python3"
  },
  "language_info": {
   "codemirror_mode": {
    "name": "ipython",
    "version": 3
   },
   "file_extension": ".py",
   "mimetype": "text/x-python",
   "name": "python",
   "nbconvert_exporter": "python",
   "pygments_lexer": "ipython3",
   "version": "3.9.5"
  }
 },
 "nbformat": 4,
 "nbformat_minor": 2
}
