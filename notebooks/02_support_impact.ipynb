{
 "cells": [
  {
   "cell_type": "code",
   "execution_count": null,
   "metadata": {},
   "outputs": [],
   "source": [
    "import pandas as pd\n",
    "import plotly.express as px\n",
    "import re\n",
    "import plotly.graph_objects as go\n",
    "from plotly.subplots import make_subplots\n",
    "import plotly.io as pio\n",
    "pio.renderers.default = \"notebook+pdf\""
   ]
  },
  {
   "cell_type": "code",
   "execution_count": null,
   "metadata": {},
   "outputs": [],
   "source": [
    "reg_config = r'([^ ]*) ([0-9]+) att ([0-9]+) SUPP'\n",
    "reg_size1_patterns = r'Total : ([0-9]+) patterns'\n",
    "reg_extented_sequence = r'\\(([0-9]+) elements\\)'\n",
    "reg_exec_time_size_1 = r'Execution time size 1 pattern: ([0-9]+)s'\n",
    "reg_exec_time_seq = r'Execution time extension : ([0-9]+)s'\n",
    "\n"
   ]
  },
  {
   "cell_type": "code",
   "execution_count": null,
   "metadata": {},
   "outputs": [],
   "source": [
    "lines = []\n",
    "with open(\"../analyzed_results/support_impact.txt\") as file:\n",
    "    current_line = \"\"\n",
    "    for line in file :\n",
    "        \n",
    "        if len(line)>1: \n",
    "            if re.match(reg_config, line):\n",
    "                if len(current_line)>1:\n",
    "                    lines.append(current_line)\n",
    "                current_line=line + \" \"\n",
    "            else :\n",
    "                current_line+=line.strip()+\" \"\n",
    "lines.append(current_line)\n",
    "                "
   ]
  },
  {
   "cell_type": "code",
   "execution_count": null,
   "metadata": {},
   "outputs": [],
   "source": [
    "lines"
   ]
  },
  {
   "cell_type": "code",
   "execution_count": null,
   "metadata": {},
   "outputs": [],
   "source": [
    "tmp_l = lines[-1]\n",
    "tmp_l"
   ]
  },
  {
   "cell_type": "code",
   "execution_count": null,
   "metadata": {},
   "outputs": [],
   "source": [
    "def getInformations(line):\n",
    "    match_config = re.findall(reg_config, line)\n",
    "    dataset = match_config[0][0]\n",
    "    nb_att = int(match_config[0][1])\n",
    "    vol = int(match_config[0][2])\n",
    "    time_1 = int(re.findall(reg_exec_time_size_1, line)[0])\n",
    "    time_seq = 0\n",
    "    if 'OOME' in line:\n",
    "        time_seq = -1\n",
    "    else :\n",
    "        time_seq = int(re.findall(reg_exec_time_seq, line)[0])\n",
    "    match_sequences = re.findall(reg_extented_sequence, line)\n",
    "    sum = 0\n",
    "    for m in match_sequences:\n",
    "        sum += int(m)\n",
    "    nb_subgraph = int(re.findall(reg_size1_patterns, line)[0])\n",
    "\n",
    "    dic = {}\n",
    "    dic['Dataset'] = dataset\n",
    "    dic['Nb Attributes'] = nb_att\n",
    "    dic['Support'] = vol\n",
    "    dic['Time Extraction Subgraphs'] = time_1\n",
    "    dic['Time Sequence'] = time_seq\n",
    "    dic['Nb Sequence'] = sum\n",
    "    dic['Nb Subgraph'] = nb_subgraph\n",
    "    return dic\n",
    "    \n"
   ]
  },
  {
   "cell_type": "code",
   "execution_count": null,
   "metadata": {},
   "outputs": [],
   "source": [
    "li_cleaned = []\n",
    "for l in lines:\n",
    "    li_cleaned.append(getInformations(l))\n",
    "li_cleaned"
   ]
  },
  {
   "cell_type": "code",
   "execution_count": null,
   "metadata": {},
   "outputs": [],
   "source": [
    "df = pd.DataFrame(li_cleaned)\n",
    "df['Time Sequence'] = df.apply(lambda x : None if x['Time Sequence'] == -1 else x['Time Sequence'] , axis=1)\n",
    "df"
   ]
  },
  {
   "cell_type": "code",
   "execution_count": null,
   "metadata": {},
   "outputs": [],
   "source": [
    "df['Time Extraction Subgraphs']=pd.to_numeric(df[\"Time Extraction Subgraphs\"], downcast='float', )"
   ]
  },
  {
   "cell_type": "code",
   "execution_count": null,
   "metadata": {},
   "outputs": [],
   "source": [
    "def plotFigure(dataset):    \n",
    "    fig = make_subplots(specs=[[{\"secondary_y\": True}]])\n",
    "\n",
    "    tmp_df = df[df['Dataset'] == dataset]\n",
    "    tmp_df.sort_values(by='Support', inplace=True)\n",
    "    # print(tmp_df)\n",
    "    # Add traces\n",
    "    fig.add_trace(\n",
    "        go.Scatter(x=tmp_df[\"Support\"], y=tmp_df[\"Time Sequence\"], name=\"Execution Time for Sequence extension (s)\"),\n",
    "        secondary_y=False,\n",
    "    )\n",
    "\n",
    "    fig.add_trace(\n",
    "        go.Scatter(x=tmp_df[\"Support\"], y=tmp_df[\"Nb Sequence\"], name=\"Number of sequences extentded\"),\n",
    "        secondary_y=True,\n",
    "    )\n",
    "\n",
    "    # Add figure title\n",
    "    fig.update_layout(\n",
    "        title_text=f\"Dataset : {dataset} Impact of Support on computation time and sequence results\"\n",
    "    )\n",
    "\n",
    "    # Set x-axis title\n",
    "    fig.update_xaxes(title_text=\"Support\", )\n",
    "    fig.update_yaxes(title_text=\"Execution Time for Sequence extension (s)\", secondary_y=False, )\n",
    "    fig.update_yaxes(title_text=\"Number of sequences extentded\", secondary_y=True,)\n",
    "    fig.show()"
   ]
  },
  {
   "cell_type": "code",
   "execution_count": null,
   "metadata": {},
   "outputs": [],
   "source": [
    "for c in df['Dataset'].value_counts().index:\n",
    "    plotFigure(c)"
   ]
  },
  {
   "cell_type": "code",
   "execution_count": null,
   "metadata": {},
   "outputs": [],
   "source": [
    "for c in df['Dataset'].value_counts().index:\n",
    "    # plotFigure(c)\n",
    "    fig = px.bar(df[df.Dataset == c], x=df[df.Dataset == c].Support, y=['Time Extraction Subgraphs', 'Time Sequence'], barmode='group')\n",
    "    fig.show()"
   ]
  },
  {
   "cell_type": "code",
   "execution_count": null,
   "metadata": {},
   "outputs": [],
   "source": []
  }
 ],
 "metadata": {
  "kernelspec": {
   "display_name": "Python 3",
   "language": "python",
   "name": "python3"
  },
  "language_info": {
   "codemirror_mode": {
    "name": "ipython",
    "version": 3
   },
   "file_extension": ".py",
   "mimetype": "text/x-python",
   "name": "python",
   "nbconvert_exporter": "python",
   "pygments_lexer": "ipython3",
   "version": "3.9.5"
  }
 },
 "nbformat": 4,
 "nbformat_minor": 2
}
