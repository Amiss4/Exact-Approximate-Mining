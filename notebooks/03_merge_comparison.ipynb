{
 "cells": [
  {
   "cell_type": "code",
   "execution_count": null,
   "metadata": {},
   "outputs": [],
   "source": [
    "onlyfiles = [f for f in listdir(HEADER_BASE_PATH) if isfile(join(HEADER_BASE_PATH, f))]"
   ]
  },
  {
   "cell_type": "code",
   "execution_count": null,
   "metadata": {},
   "outputs": [],
   "source": [
    "def commonNodeExists(last_common_node, li_attribute, current_time):\n",
    "    "
   ]
  },
  {
   "cell_type": "code",
   "execution_count": null,
   "metadata": {},
   "outputs": [],
   "source": [
    "last_common_node, li_attribute, current_time = 97, [1, 0], 1\n",
    "linked_nodes = []\n",
    "with open(HEADER_BASE_PATH+\"edges/T\" + str(0) + \"edges\") as file:\n",
    "    for line in file :\n",
    "        re_linked_nodes = r'{current_node}\\t([0-9]+)'.format(current_node=str(last_common_node))\n",
    "        if re.match(re_linked_nodes, line):\n",
    "            m = re.findall(re_linked_nodes, line)\n",
    "            linked_nodes.append(int(m[0]))"
   ]
  },
  {
   "cell_type": "code",
   "execution_count": null,
   "metadata": {},
   "outputs": [],
   "source": [
    "onlyfiles"
   ]
  },
  {
   "cell_type": "code",
   "execution_count": null,
   "metadata": {},
   "outputs": [],
   "source": [
    "for time in range(len(onlyfiles)):\n",
    "    with open(HEADER_BASE_PATH+onlyfiles[time]) as file:\n",
    "        sum = 0\n",
    "        total_nodes = 0\n",
    "        for line in file:\n",
    "            tmp = line.split(\"\\t\")\n",
    "            last_node_pattern = tmp[0].strip().split(\";\")\n",
    "            last_node_pattern = [int(i) for i in last_node_pattern[0:-1]]\n",
    "            nodes = tmp[1].strip().split(\";\")\n",
    "            nodes = [int(i) for i in nodes[0:-1]]\n",
    "            total_nodes += len(nodes)\n",
    "            for node in nodes:\n",
    "                if commonNodeExists(node,last_node_pattern, 0):\n",
    "                    sum += 1\n",
    "        print(f'Time {time} : {round(sum*100/total_nodes, 2) if total_nodes > 0 else 0.00}%')\n"
   ]
  },
  {
   "cell_type": "code",
   "execution_count": null,
   "metadata": {},
   "outputs": [],
   "source": []
  }
 ],
 "metadata": {
  "kernelspec": {
   "display_name": "Python 3",
   "language": "python",
   "name": "python3"
  },
  "language_info": {
   "codemirror_mode": {
    "name": "ipython",
    "version": 3
   },
   "file_extension": ".py",
   "mimetype": "text/x-python",
   "name": "python",
   "nbconvert_exporter": "python",
   "pygments_lexer": "ipython3",
   "version": "3.9.5"
  }
 },
 "nbformat": 4,
 "nbformat_minor": 2
}
