{
 "cells": [
  {
   "cell_type": "code",
   "execution_count": null,
   "metadata": {},
   "outputs": [],
   "source": [
    "import pandas as pd\n",
    "import plotly.express as px\n",
    "import re\n",
    "import plotly.graph_objects as go\n",
    "from plotly.subplots import make_subplots\n",
    "import plotly.io as pio\n",
    "pio.renderers.default = \"notebook+pdf\""
   ]
  },
  {
   "cell_type": "code",
   "execution_count": null,
   "metadata": {},
   "outputs": [],
   "source": [
    "reg_config = r'MINCOM ([0-9]+)'\n",
    "reg_size1_patterns = r'Number of Patterns : ([0-9]+)'\n",
    "reg_extented_sequence = r'\\(([0-9]+) elements\\)'\n",
    "reg_exec_time_size_1 = r'Execution time size 1 pattern: ([0-9]+)s'\n",
    "reg_exec_time_seq = r'Execution time : ([0-9]+)s'\n",
    "\n"
   ]
  },
  {
   "cell_type": "code",
   "execution_count": null,
   "metadata": {},
   "outputs": [],
   "source": [
    "lines = []\n",
    "with open(\"../analyzed_results/mincom\") as file:\n",
    "    current_line = \"\"\n",
    "    for line in file :\n",
    "        \n",
    "        if len(line)>1: \n",
    "            if re.match(reg_config, line):\n",
    "                if len(current_line)>1:\n",
    "                    lines.append(current_line)\n",
    "                current_line=line + \" \"\n",
    "            else :\n",
    "                current_line+=line.strip()+\" \"\n",
    "lines.append(current_line)\n",
    "                "
   ]
  },
  {
   "cell_type": "code",
   "execution_count": null,
   "metadata": {},
   "outputs": [],
   "source": [
    "def getInformations(line):\n",
    "    match_config = re.findall(reg_config, line)\n",
    "    nbTS = match_config[0]\n",
    "    # nb_att = int(match_config[0][1])\n",
    "    # vol = int(match_config[0][2])\n",
    "    time_1 = int(re.findall(reg_exec_time_size_1, line)[0])\n",
    "    time_seq = 0\n",
    "    current_threshold = 100\n",
    "    if 'OOME' in line:\n",
    "        time_seq = -1\n",
    "    else :\n",
    "        time_seq = int(re.findall(reg_exec_time_seq, line)[0])\n",
    "    match_sequences = re.findall(reg_extented_sequence, line)\n",
    "    sum = 0\n",
    "    for m in match_sequences:\n",
    "        sum += int(m) if int(m) < current_threshold else current_threshold\n",
    "    # nb_subgraph = int(re.findall(reg_size1_patterns, line)[0])\n",
    "\n",
    "    dic = {}\n",
    "    # dic['Dataset'] = dataset\n",
    "    dic['Mincom'] = match_config[0]\n",
    "    # dic['Support'] = vol\n",
    "    dic['Timestamps'] = 10\n",
    "    dic['Time Extraction Subgraphs'] = time_1\n",
    "    dic['Time Sequence'] = time_seq\n",
    "    dic['Nb Sequence'] = sum\n",
    "    # dic['Nb Subgraph'] = nb_subgraph\n",
    "    return dic\n",
    "    \n"
   ]
  },
  {
   "cell_type": "code",
   "execution_count": null,
   "metadata": {},
   "outputs": [],
   "source": [
    "li_of_dict = []\n",
    "for i, l in enumerate(lines) :\n",
    "    print(i)\n",
    "    li_of_dict.append(getInformations(l))"
   ]
  },
  {
   "cell_type": "code",
   "execution_count": null,
   "metadata": {},
   "outputs": [],
   "source": [
    "df = pd.DataFrame(li_of_dict)\n",
    "df[\"Total Time\"] =  df[\"Time Sequence\"]\n",
    "# df.sort_values(by=\"Mincom\", ascending=False, inplace=True)\n",
    "df\n"
   ]
  },
  {
   "cell_type": "code",
   "execution_count": null,
   "metadata": {},
   "outputs": [],
   "source": [
    "fig = make_subplots(specs=[[{\"secondary_y\": True}]])\n",
    "\n",
    "# df.sort_values(by='Support', inplace=True)\n",
    "    # print(tmp_df)\n",
    "    # Add traces\n",
    "fig.add_trace(\n",
    "    go.Scatter(x=df[\"Mincom\"], y=df[\"Total Time\"], \n",
    "               name=\"Execution Time(s)\", \n",
    "               mode=\"lines+markers+text\", \n",
    "               textposition=\"bottom center\",\n",
    "               text =df[\"Total Time\"],\n",
    "               line=dict(width=8)),\n",
    "    secondary_y=False,\n",
    ")\n",
    "\n",
    "fig.add_trace(\n",
    "    go.Scatter(x=df[\"Mincom\"], y=df[\"Nb Sequence\"], \n",
    "               name=\"Number of Sequences\", \n",
    "               mode=\"lines+markers+text\", \n",
    "               textposition=\"top center\",\n",
    "               text =df[\"Nb Sequence\"],\n",
    "               line=dict(width=8)),\n",
    "    secondary_y=True,\n",
    ")\n",
    "\n",
    "fig.update_layout(\n",
    "width=1486, height=525,\n",
    "    # title_text=\"Compared Execution Time for Subgraph Exctraction for Covid-19 dataset\", \n",
    "        font=dict(\n",
    "        # family=\"Courier New, monospace\",\n",
    "        size=30,  # Set the font size here\n",
    "        # color=\"RebeccaPurple\"\n",
    "    ), \n",
    "        # yaxis_range=[0,50], \n",
    "        legend=dict(\n",
    "        x=0.5,\n",
    "        y=1,\n",
    "        traceorder=\"reversed\",\n",
    "        # title_font_family=\"Times New Roman\",\n",
    "        # font=dict(\n",
    "        #     family=\"Courier\",\n",
    "        #     size=12,\n",
    "        #     color=\"black\"\n",
    "        # ),\n",
    "        # bgcolor=\"LightSteelBlue\",\n",
    "        bordercolor=\"Black\",\n",
    "        borderwidth=1\n",
    "    )\n",
    "    \n",
    ")\n",
    "# fig.add_trace(\n",
    "#     go.Scatter(x=df[\"Volume\"], y=df[\"Nb Sequence\"], name=\"Number of sequences extentded\"),\n",
    "#     secondary_y=True,\n",
    "# )\n",
    "\n",
    "    # Add figure title\n",
    "# fig.update_layout(\n",
    "#         title_text=f\"Dataset : {dataset} Impact of Support on computation time and sequence results\"\n",
    "# )\n",
    "\n",
    "    # Set x-axis title\n",
    "fig.update_xaxes(title_text=\"MINCOM\", )\n",
    "fig.update_yaxes(title_text=\"Execution Time (s)\", secondary_y=False, range=[10, 50] )\n",
    "fig.update_yaxes(title_text=\"Number of sequences\", secondary_y=True, range=[0, 5000])\n",
    "fig.show()"
   ]
  },
  {
   "cell_type": "code",
   "execution_count": null,
   "metadata": {},
   "outputs": [],
   "source": []
  },
  {
   "cell_type": "code",
   "execution_count": null,
   "metadata": {},
   "outputs": [],
   "source": []
  }
 ],
 "metadata": {
  "kernelspec": {
   "display_name": "Python 3",
   "language": "python",
   "name": "python3"
  },
  "language_info": {
   "codemirror_mode": {
    "name": "ipython",
    "version": 3
   },
   "file_extension": ".py",
   "mimetype": "text/x-python",
   "name": "python",
   "nbconvert_exporter": "python",
   "pygments_lexer": "ipython3",
   "version": "3.9.5"
  }
 },
 "nbformat": 4,
 "nbformat_minor": 2
}
